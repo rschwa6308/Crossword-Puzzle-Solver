{
 "cells": [
  {
   "cell_type": "markdown",
   "metadata": {},
   "source": [
    "Visualizing Word2Vec results"
   ]
  },
  {
   "cell_type": "code",
   "execution_count": 1,
   "metadata": {},
   "outputs": [
    {
     "name": "stdout",
     "output_type": "stream",
     "text": [
      "Puzzles Available: 14545\n"
     ]
    }
   ],
   "source": [
    "import os\n",
    "import json\n",
    "from pprint import pprint\n",
    "import random\n",
    "import numpy as np\n",
    "from matplotlib import pyplot as plt\n",
    "\n",
    "\n",
    "DATA_PATH = r\"data\\nyt_crosswords-cleaned\"\n",
    "puzzles_available = []\n",
    "\n",
    "for year in os.listdir(DATA_PATH):\n",
    "    if not year.isdecimal(): continue       # skip README.md\n",
    "    for month in os.listdir(os.path.join(DATA_PATH, year)):\n",
    "        for day in os.listdir(os.path.join(DATA_PATH, year, month)):\n",
    "            puzzles_available.append((int(year), int(month), int(day.split(\".\")[0])))\n",
    "\n",
    "print(\"Puzzles Available:\", len(puzzles_available))\n",
    "sample = [puzz for puzz in puzzles_available if puzz[-1]%2==0]\n",
    "\n",
    "clue_answer_pairs = []\n",
    "\n",
    "for year, month, day in sample:\n",
    "    path = os.path.join(DATA_PATH, f\"{year}\", f\"{month:02d}\", f\"{day:02d}.json\")\n",
    "    with open(path, encoding=\"utf-8\") as f:\n",
    "        puzzle = json.load(f)\n",
    "        for c, a in zip(\n",
    "            puzzle[\"clues\"][\"across\"] + puzzle[\"clues\"][\"down\"],\n",
    "            puzzle[\"answers\"][\"across\"] + puzzle[\"answers\"][\"down\"]\n",
    "        ):\n",
    "            clue = c[c.index(\".\")+2:]\n",
    "            clue_answer_pairs.append((clue, a))\n",
    "\n",
    "clues, answers = zip(*clue_answer_pairs)\n",
    "\n",
    "# Split data into train and test\n",
    "from sklearn.model_selection import train_test_split\n",
    "\n",
    "clues_train, clues_test, answers_train, answers_test = train_test_split(\n",
    "    clues, answers,\n",
    "    test_size=0.001, shuffle=True\n",
    ")\n",
    "\n",
    "# Prepare data\n",
    "new_clues_train = []\n",
    "for clue in clues_train:\n",
    "    clue = clue.replace('\\'', '')\n",
    "    clue = clue.replace('\"', '')\n",
    "    new_clues_train.append([w.lower() for w in clue.split(' ')])\n",
    "\n",
    "new_clues_test = []\n",
    "for clue in clues_test:\n",
    "    clue = clue.replace('\\'', '')\n",
    "    clue = clue.replace('\"', '')\n",
    "    new_clues_test.append([w.lower() for w in clue.split(' ')])\n",
    "\n",
    "import gensim.downloader\n",
    "import gensim.models\n",
    "from gensim.test.utils import common_texts\n",
    "\n",
    "# load word2vec\n",
    "#w2v_model = gensim.downloader.load('glove-wiki-gigaword-300')\n",
    "# build word2vec\n",
    "#gensim_vectors.save('model.bin')\n",
    "w2v_model = gensim.models.word2vec.Word2Vec(new_clues_train, vector_size=100, min_count=1)"
   ]
  },
  {
   "cell_type": "code",
   "execution_count": 52,
   "metadata": {},
   "outputs": [],
   "source": [
    "from scipy import spatial\n",
    "from sklearn.metrics.pairwise import cosine_similarity\n",
    "# function average word2vec vector\n",
    "def avg_feature_vector(words, model, num_features, ind2key_set):\n",
    "    feature_vec = np.zeros((num_features, ), dtype='float32')\n",
    "    n_words = 0\n",
    "    for word in words:\n",
    "        if word in ind2key_set:\n",
    "            n_words += 1\n",
    "            feature_vec = np.add(feature_vec, model[word])\n",
    "    if (n_words > 0):\n",
    "        feature_vec = np.divide(feature_vec, n_words)\n",
    "    return feature_vec\n",
    "\n",
    "\n",
    "# define cosine similarity score\n",
    "def sim_score(v1,v2):\n",
    "    return 1 - spatial.distance.cosine(v1, v2)\n",
    "\n",
    "# define vectorizer\n",
    "def word2vec_vectorizer(data, model,num_features,ind2key_set):\n",
    "    vec_data = []\n",
    "    for sentence in data:\n",
    "        sentence = [word for word in sentence if len(word)>1]\n",
    "        vec_data.append(avg_feature_vector(sentence,model,num_features,ind2key_set))\n",
    "    \n",
    "    return vec_data\n",
    "\n",
    "# Define a guesser function\n",
    "def guess(clue, slot_length=None, max_guesses=5, max_guesses_raw=30):\n",
    "    clue_vector =  word2vec_vectorizer([clue],w2v_model.wv,100,set(w2v_model.wv.index_to_key))\n",
    "    #result = cosine_similarity(clue_vector, X_train)[0]\n",
    "    #indices = np.argsort(result)[::-1][:max_guesses_raw]\n",
    "    #raw_guesses = [answers_train[i] for i in indices]\n",
    "    #print([i for i in indices])\n",
    "\n",
    "    distances, indices = nn_model.kneighbors(clue_vector, n_neighbors=max_guesses_raw)\n",
    "    raw_guesses = [answers_train[i] for i in indices[0]]\n",
    "    idx = [i for i in indices[0]]\n",
    "\n",
    "    def valid(g):\n",
    "        o = True\n",
    "        if slot_length:\n",
    "            o &= len(g) == slot_length\n",
    "        o &= g.lower() not in clue\n",
    "        return o\n",
    "    \n",
    "    guesses = [g for g in raw_guesses if valid(g)]\n",
    "    return guesses[:max_guesses], idx"
   ]
  },
  {
   "cell_type": "code",
   "execution_count": 24,
   "metadata": {},
   "outputs": [],
   "source": [
    "# Vectorize Clues\n",
    "X_train = word2vec_vectorizer(new_clues_train,w2v_model.wv,100,set(w2v_model.wv.index_to_key))\n",
    "\n",
    "# Build a Nearest Neighbors Model\n",
    "from sklearn.neighbors import NearestNeighbors\n",
    "\n",
    "nn_model = NearestNeighbors().fit(X_train)"
   ]
  },
  {
   "cell_type": "code",
   "execution_count": 111,
   "metadata": {},
   "outputs": [
    {
     "name": "stdout",
     "output_type": "stream",
     "text": [
      "clue: ['african', 'language', 'grouping']\n",
      "answer: BANTU\n",
      "guesses: ['YUMAN', 'INUIT', 'OKAPI', 'TEPEE', 'MIAMI']\n"
     ]
    }
   ],
   "source": [
    "# Random guess\n",
    "i = random.randint(0, len(new_clues_test))\n",
    "test_clue, test_answer = new_clues_test[i], answers_test[i]\n",
    "print(\"clue:\", test_clue)\n",
    "print(\"answer:\", test_answer)\n",
    "\n",
    "# distances, indices = model.kneighbors(vectorizer.transform([test_clue]), n_neighbors=10)\n",
    "# print(\"guesses:\", [answers_train[i] for i in indices[0]])\n",
    "\n",
    "guesses,idx = guess(test_clue, slot_length=len(test_answer))\n",
    "print(\"guesses:\", guesses)"
   ]
  },
  {
   "cell_type": "code",
   "execution_count": 112,
   "metadata": {},
   "outputs": [],
   "source": [
    "# get sample data\n",
    "test_vector = avg_feature_vector(test_clue,w2v_model.wv,100,set(w2v_model.wv.index_to_key))\n",
    "train_vectors = [avg_feature_vector(new_clues_train[i],w2v_model.wv,100,set(w2v_model.wv.index_to_key)) for i in idx[0:8]]\n",
    "vectors = [test_vector] + train_vectors\n",
    "n_clue = [test_clue] + [new_clues_train[i] for i in idx[0:7]]\n",
    "n_answer = [test_answer] + [answers_train[i] for i in idx[0:7]]"
   ]
  },
  {
   "cell_type": "code",
   "execution_count": 118,
   "metadata": {},
   "outputs": [
    {
     "data": {
      "image/png": "[encoded data removed]",
      "text/plain": [
       "<Figure size 720x720 with 1 Axes>"
      ]
     },
     "metadata": {
      "needs_background": "light"
     },
     "output_type": "display_data"
    }
   ],
   "source": [
    "# plotting\n",
    "import numpy as np\n",
    "import matplotlib.pyplot as plt\n",
    "from sklearn.decomposition import PCA\n",
    "pca = PCA(n_components=2)\n",
    "reduced = pca.fit_transform(vectors)\n",
    "t = reduced.transpose()\n",
    "x = t[0]\n",
    "y = t[1]\n",
    "fig, axes = plt.subplots(figsize=(10, 10))\n",
    "plt.scatter(x[0:8], y[0:8], color='blue')\n",
    "plt.scatter(x[0], y[0], color='red')\n",
    "for i, txt in enumerate(n_clue):\n",
    "    plt.annotate(txt, (x[i], y[i]))\n",
    "plt.title('Clue Vector Representation')\n",
    "plt.legend(('Training clues','Testing clue'))\n",
    "plt.show()"
   ]
  },
  {
   "cell_type": "code",
   "execution_count": 116,
   "metadata": {},
   "outputs": [
    {
     "data": {
      "text/plain": [
       "0.5685176481551492"
      ]
     },
     "execution_count": 116,
     "metadata": {},
     "output_type": "execute_result"
    }
   ],
   "source": [
    "x[0]\n",
    "y[0]"
   ]
  }
 ],
 "metadata": {
  "interpreter": {
   "hash": "587af5a7df95bbbb8540e5a5649dff65a893870a6ade761252e972e2fb56ab97"
  },
  "kernelspec": {
   "display_name": "Python 3.9.9 64-bit (windows store)",
   "language": "python",
   "name": "python3"
  },
  "language_info": {
   "codemirror_mode": {
    "name": "ipython",
    "version": 3
   },
   "file_extension": ".py",
   "mimetype": "text/x-python",
   "name": "python",
   "nbconvert_exporter": "python",
   "pygments_lexer": "ipython3",
   "version": "3.9.9"
  },
  "orig_nbformat": 4
 },
 "nbformat": 4,
 "nbformat_minor": 2
}
