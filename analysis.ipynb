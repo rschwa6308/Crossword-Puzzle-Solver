{
 "cells": [
  {
   "cell_type": "code",
   "execution_count": 1,
   "metadata": {},
   "outputs": [],
   "source": [
    "import os\n",
    "import random\n",
    "import json\n",
    "from typing import Type\n",
    "\n",
    "from puzzle import Puzzle\n",
    "from solvers import Solver, BasicSolverThreshold, CellConfidenceSolver\n",
    "from testing_util import test_solver"
   ]
  },
  {
   "cell_type": "code",
   "execution_count": 2,
   "metadata": {},
   "outputs": [],
   "source": [
    "DOWS = [\"Monday\", \"Tuesday\", \"Wednesday\", \"Thursday\", \"Friday\", \"Saturday\", \"Sunday\"]\n",
    "    "
   ]
  },
  {
   "cell_type": "code",
   "execution_count": 3,
   "metadata": {},
   "outputs": [
    {
     "name": "stdout",
     "output_type": "stream",
     "text": [
      "Solver:   CellConfidenceSolver\n",
      "Puzzle:   Sunday, 12/1/2002\n",
      "\n",
      "Writing       BEL       to slot 97D\t(INCORRECT ✗)\n",
      "            5% 😕      \n",
      "\n",
      "\u001b[31mＨ\u001b[0m\u001b[31mＥ\u001b[0m\u001b[31mＹ\u001b[0m████Ａ\u001b[31mＥ\u001b[0mＥ\u001b[31mＥ\u001b[0m██\u001b[31mＤ\u001b[0m\u001b[31mＡ\u001b[0m\u001b[31mＶ\u001b[0m\u001b[31mＩ\u001b[0mＴ██\u001b[31mＣ\u001b[0mＥ\u001b[31mＯ\u001b[0m\u001b[31mＰ\u001b[0m\u001b[31mＵ\u001b[0m\n",
      "ＥＳＴ██ＡＬＯＮＥ██ＯＰ\u001b[31mＥ\u001b[0mＡＨ██ＥＬ\u001b[31mＭ\u001b[0m\u001b[31mＥ\u001b[0m\u001b[31mＶ\u001b[0m\n",
      "ＩＲＡ██\u001b[31mＥ\u001b[0mＩ\u001b[31mＩ\u001b[0m\u001b[31mＤ\u001b[0m＿██ＲＨ\u001b[31mＮ\u001b[0mＮＥ██ＲＥ\u001b[31mＥ\u001b[0m\u001b[31mＴ\u001b[0m\u001b[31mＵ\u001b[0m\n",
      "＿＿＿Ｍ\u001b[31mＬ\u001b[0mＮ\u001b[31mＲ\u001b[0mＯ＿＿＿＿\u001b[31mＴ\u001b[0m＿\u001b[31mＬ\u001b[0m██\u001b[31mＣ\u001b[0mＥＮ\u001b[31mＥ\u001b[0m\u001b[31mＬ\u001b[0m\n",
      "＿＿＿Ａ\u001b[31mＬ\u001b[0mＥ\u001b[31mＡ\u001b[0m██\u001b[31mＡ\u001b[0m\u001b[31mＬ\u001b[0m\u001b[31mＩ\u001b[0m\u001b[31mＴ\u001b[0m████\u001b[31mＬ\u001b[0mＥ\u001b[31mＩ\u001b[0m██Ｓ\u001b[31mＰ\u001b[0mＡ\n",
      "\u001b[31mＡ\u001b[0m\u001b[31mＲ\u001b[0m\u001b[31mＴ\u001b[0m\u001b[31mＹ\u001b[0m████\u001b[31mＴ\u001b[0m\u001b[31mＧ\u001b[0m\u001b[31mＬ\u001b[0mＥ\u001b[31mＴ\u001b[0m██\u001b[31mＣ\u001b[0m\u001b[31mＵ\u001b[0m\u001b[31mＲ\u001b[0m\u001b[31mＥ\u001b[0mＳ████████\n",
      "████\u001b[31mＴ\u001b[0mＩ\u001b[31mＮ\u001b[0m\u001b[31mＳ\u001b[0m\u001b[31mＥ\u001b[0mＥ\u001b[31mＳ\u001b[0m████\u001b[31mＴ\u001b[0mＥＮ\u001b[31mＯ\u001b[0mＳ██ＣＢＥＲ\n",
      "\u001b[31mＡ\u001b[0m\u001b[31mＯ\u001b[0m\u001b[31mＩ\u001b[0mＳ\u001b[31mＥ\u001b[0m\u001b[31mＤ\u001b[0m██\u001b[31mＭ\u001b[0m\u001b[31mＯ\u001b[0m\u001b[31mＮ\u001b[0m██\u001b[31mＡ\u001b[0mＩＤ\u001b[31mＯ\u001b[0m██\u001b[31mＡ\u001b[0m\u001b[31mＮ\u001b[0m\u001b[31mＥ\u001b[0m\u001b[31mＹ\u001b[0mＥ\n",
      "\u001b[31mＧ\u001b[0m\u001b[31mＹ\u001b[0m\u001b[31mＮ\u001b[0m██ＥＮＥ██＿＿\u001b[31mＢ\u001b[0m\u001b[31mＬ\u001b[0mＳ██\u001b[31mＴ\u001b[0m\u001b[31mＥ\u001b[0m\u001b[31mＡ\u001b[0m\u001b[31mＢ\u001b[0m\u001b[31mＡ\u001b[0m\u001b[31mＧ\u001b[0mＳ\n",
      "\u001b[31mＥ\u001b[0m＿＿██＿＿ＲＥ██＿\u001b[31mＬ\u001b[0m\u001b[31mＩ\u001b[0mＴＳ██\u001b[31mＥ\u001b[0m\u001b[31mＲ\u001b[0m\u001b[31mＡ\u001b[0m\u001b[31mＳ\u001b[0m\u001b[31mＥ\u001b[0m██\n",
      "\u001b[31mＥ\u001b[0m\u001b[31mＸ\u001b[0m\u001b[31mＩ\u001b[0m\u001b[31mＳ\u001b[0m\u001b[31mＴ\u001b[0m\u001b[31mＥ\u001b[0mＮＴ██ＫＡＩ██ＡＳ\u001b[31mＸ\u001b[0m\u001b[31mＹ\u001b[0mＳＴＯＳ\n",
      "██\u001b[31mＴ\u001b[0m\u001b[31mＥ\u001b[0m\u001b[31mＨ\u001b[0m\u001b[31mＯ\u001b[0m\u001b[31mＦ\u001b[0m██Ｃ\u001b[31mＥ\u001b[0m＿\u001b[31mＡ\u001b[0m\u001b[31mＭ\u001b[0m██ＤＯ\u001b[31mＥ\u001b[0m\u001b[31mＤ\u001b[0m██\u001b[31mＡ\u001b[0m\u001b[31mＬ\u001b[0mＴ\n",
      "Ｄ\u001b[31mＥ\u001b[0m\u001b[31mＣ\u001b[0m\u001b[31mＡ\u001b[0m\u001b[31mＹ\u001b[0m\u001b[31mＥ\u001b[0m\u001b[31mＲ\u001b[0m██ＮＡＯＭＩ██ＯＡＦ██ＭＥＡ\n",
      "ＵＮＩ\u001b[31mＰ\u001b[0mＳ██\u001b[31mＥ\u001b[0m\u001b[31mＶ\u001b[0m\u001b[31mＥ\u001b[0m\u001b[31mＮ\u001b[0m██ＡＮＩ██ＭＯＶＩＮＧ\n",
      "Ｄ\u001b[31mＡ\u001b[0m\u001b[31mＶ\u001b[0m\u001b[31mＥ\u001b[0m██Ｄ\u001b[31mＩ\u001b[0m\u001b[31mＤ\u001b[0m\u001b[31mＥ\u001b[0m\u001b[31mＲ\u001b[0m████Ｅ\u001b[31mＯ\u001b[0m\u001b[31mＭ\u001b[0m\u001b[31mＰ\u001b[0m\u001b[31mＡ\u001b[0m\u001b[31mＲ\u001b[0m\u001b[31mＥ\u001b[0m████\n",
      "████████＿Ａ＿\u001b[31mＵ\u001b[0m\u001b[31mＲ\u001b[0m██\u001b[31mＥ\u001b[0m\u001b[31mＢ\u001b[0mＳ\u001b[31mＮ\u001b[0m＿████\u001b[31mＴ\u001b[0m\u001b[31mＡ\u001b[0mＳ\u001b[31mＫ\u001b[0m\n",
      "ＯＭＡ██Ｅ\u001b[31mＴ\u001b[0m\u001b[31mＯ\u001b[0m████\u001b[31mＳ\u001b[0m\u001b[31mＮ\u001b[0m\u001b[31mＥ\u001b[0mＳ██\u001b[31mＳ\u001b[0m\u001b[31mＣ\u001b[0m\u001b[31mＯ\u001b[0m\u001b[31mＯ\u001b[0m\u001b[31mＴ\u001b[0m\u001b[31mＥ\u001b[0m\u001b[31mＤ\u001b[0m\n",
      "Ｄ\u001b[31mＥ\u001b[0mＲＴ＿██\u001b[31mＰ\u001b[0m\u001b[31mＲ\u001b[0m\u001b[31mＡ\u001b[0m\u001b[31mＴ\u001b[0m\u001b[31mＴ\u001b[0mＬＥ\u001b[31mＢ\u001b[0m\u001b[31mＥ\u001b[0m\u001b[31mＤ\u001b[0mＦ\u001b[31mＲ\u001b[0m\u001b[31mＡ\u001b[0mＭ\u001b[31mＥ\u001b[0m\n",
      "Ｉ\u001b[31mＲ\u001b[0mＤＩ\u001b[31mＭ\u001b[0m██\u001b[31mＳ\u001b[0m\u001b[31mＴ\u001b[0m\u001b[31mＩ\u001b[0m\u001b[31mＮ\u001b[0m\u001b[31mＧ\u001b[0m██Ｎ\u001b[31mＡ\u001b[0m\u001b[31mＲ\u001b[0m\u001b[31mＥ\u001b[0mＳ██\u001b[31mＳ\u001b[0mＴ\u001b[31mＵ\u001b[0m\n",
      "Ｌ\u001b[31mＬ\u001b[0mＯＮ＿██ＡＬＥＲＯ██\u001b[31mＹ\u001b[0mＡ\u001b[31mＬ\u001b[0m\u001b[31mＴ\u001b[0m\u001b[31mＡ\u001b[0m██\u001b[31mＥ\u001b[0m\u001b[31mＤ\u001b[0m\u001b[31mＵ\u001b[0m\n",
      "Ｅ\u001b[31mＥ\u001b[0mＲＴ＿██＿＿\u001b[31mＭ\u001b[0m＿\u001b[31mＥ\u001b[0m██Ｅ\u001b[31mＥ\u001b[0mＮＡ████\u001b[31mＸ\u001b[0m\u001b[31mＥ\u001b[0m\u001b[31mＲ\u001b[0m\n",
      "\n",
      "\u001b[33m65\u001b[0m \u001b[33m65\u001b[0m \u001b[33m65\u001b[0m ██ ██ \u001b[33m49\u001b[0m \u001b[33m42\u001b[0m \u001b[32m87\u001b[0m \u001b[33m41\u001b[0m ██ \u001b[32m75\u001b[0m \u001b[32m75\u001b[0m \u001b[32m97\u001b[0m \u001b[32m75\u001b[0m \u001b[32m76\u001b[0m ██ \u001b[31m04\u001b[0m \u001b[32m99\u001b[0m \u001b[32m99\u001b[0m \u001b[33m45\u001b[0m \u001b[33m35\u001b[0m\n",
      "\u001b[32m86\u001b[0m \u001b[32m86\u001b[0m \u001b[32m86\u001b[0m ██ \u001b[33m49\u001b[0m \u001b[32m87\u001b[0m \u001b[33m49\u001b[0m \u001b[32m99\u001b[0m \u001b[32m74\u001b[0m ██ \u001b[33m35\u001b[0m \u001b[33m35\u001b[0m \u001b[32m66\u001b[0m \u001b[33m35\u001b[0m \u001b[33m38\u001b[0m ██ \u001b[31m04\u001b[0m \u001b[32m99\u001b[0m \u001b[32m99\u001b[0m \u001b[33m45\u001b[0m \u001b[33m35\u001b[0m\n",
      "\u001b[32m89\u001b[0m \u001b[32m89\u001b[0m \u001b[32m89\u001b[0m ██ \u001b[33m49\u001b[0m \u001b[33m49\u001b[0m \u001b[33m42\u001b[0m \u001b[32m98\u001b[0m 00 ██ \u001b[31m22\u001b[0m \u001b[31m22\u001b[0m \u001b[32m66\u001b[0m \u001b[31m22\u001b[0m \u001b[31m26\u001b[0m ██ \u001b[33m52\u001b[0m \u001b[32m99\u001b[0m \u001b[32m96\u001b[0m \u001b[33m45\u001b[0m \u001b[33m35\u001b[0m\n",
      "00 00 00 \u001b[32m74\u001b[0m \u001b[33m49\u001b[0m \u001b[33m49\u001b[0m \u001b[33m42\u001b[0m \u001b[32m98\u001b[0m 00 00 00 00 \u001b[32m88\u001b[0m 00 \u001b[31m04\u001b[0m ██ \u001b[31m04\u001b[0m \u001b[32m99\u001b[0m \u001b[32m99\u001b[0m \u001b[33m45\u001b[0m \u001b[33m35\u001b[0m\n",
      "00 00 00 \u001b[32m74\u001b[0m \u001b[33m49\u001b[0m \u001b[33m49\u001b[0m \u001b[33m42\u001b[0m ██ \u001b[32m99\u001b[0m \u001b[32m99\u001b[0m \u001b[32m99\u001b[0m \u001b[32m99\u001b[0m ██ ██ \u001b[31m24\u001b[0m \u001b[32m87\u001b[0m \u001b[31m24\u001b[0m ██ \u001b[32m99\u001b[0m \u001b[33m63\u001b[0m \u001b[32m91\u001b[0m\n",
      "\u001b[32m99\u001b[0m \u001b[32m99\u001b[0m \u001b[32m99\u001b[0m \u001b[32m99\u001b[0m ██ ██ \u001b[32m74\u001b[0m \u001b[33m56\u001b[0m \u001b[33m56\u001b[0m \u001b[33m56\u001b[0m \u001b[33m56\u001b[0m ██ \u001b[32m99\u001b[0m \u001b[32m93\u001b[0m \u001b[32m99\u001b[0m \u001b[32m99\u001b[0m \u001b[32m99\u001b[0m ██ ██ ██ ██\n",
      "██ ██ \u001b[33m42\u001b[0m \u001b[32m74\u001b[0m \u001b[33m42\u001b[0m \u001b[33m42\u001b[0m \u001b[33m42\u001b[0m \u001b[33m56\u001b[0m \u001b[33m42\u001b[0m ██ ██ \u001b[33m49\u001b[0m \u001b[32m87\u001b[0m \u001b[33m49\u001b[0m \u001b[31m04\u001b[0m \u001b[32m84\u001b[0m ██ \u001b[33m49\u001b[0m \u001b[32m74\u001b[0m \u001b[32m74\u001b[0m \u001b[32m96\u001b[0m\n",
      "\u001b[32m97\u001b[0m \u001b[32m80\u001b[0m \u001b[32m80\u001b[0m \u001b[32m74\u001b[0m \u001b[32m80\u001b[0m \u001b[32m80\u001b[0m ██ \u001b[32m94\u001b[0m \u001b[32m87\u001b[0m \u001b[32m87\u001b[0m ██ \u001b[33m49\u001b[0m \u001b[32m87\u001b[0m \u001b[33m49\u001b[0m \u001b[31m04\u001b[0m ██ \u001b[31m18\u001b[0m \u001b[31m18\u001b[0m \u001b[31m18\u001b[0m \u001b[31m18\u001b[0m \u001b[32m89\u001b[0m\n",
      "\u001b[32m85\u001b[0m \u001b[33m60\u001b[0m \u001b[33m60\u001b[0m ██ \u001b[32m98\u001b[0m \u001b[32m98\u001b[0m \u001b[32m99\u001b[0m ██ 00 00 \u001b[32m87\u001b[0m \u001b[33m49\u001b[0m \u001b[32m87\u001b[0m ██ \u001b[32m76\u001b[0m \u001b[32m74\u001b[0m \u001b[32m74\u001b[0m \u001b[33m49\u001b[0m \u001b[32m74\u001b[0m \u001b[32m74\u001b[0m \u001b[32m96\u001b[0m\n",
      "\u001b[32m97\u001b[0m 00 00 ██ 00 00 \u001b[32m99\u001b[0m \u001b[32m74\u001b[0m ██ 00 \u001b[32m87\u001b[0m \u001b[33m49\u001b[0m \u001b[32m87\u001b[0m \u001b[32m99\u001b[0m ██ \u001b[32m91\u001b[0m \u001b[32m91\u001b[0m \u001b[32m71\u001b[0m \u001b[32m91\u001b[0m \u001b[32m91\u001b[0m ██\n",
      "\u001b[32m98\u001b[0m \u001b[31m04\u001b[0m \u001b[31m04\u001b[0m \u001b[33m60\u001b[0m \u001b[31m04\u001b[0m \u001b[31m04\u001b[0m \u001b[32m99\u001b[0m \u001b[32m76\u001b[0m ██ \u001b[32m99\u001b[0m \u001b[32m99\u001b[0m \u001b[32m99\u001b[0m ██ \u001b[32m99\u001b[0m \u001b[32m99\u001b[0m \u001b[31m04\u001b[0m \u001b[31m04\u001b[0m \u001b[33m44\u001b[0m \u001b[31m04\u001b[0m \u001b[31m04\u001b[0m \u001b[33m48\u001b[0m\n",
      "██ \u001b[33m49\u001b[0m \u001b[33m49\u001b[0m \u001b[33m58\u001b[0m \u001b[33m49\u001b[0m \u001b[33m49\u001b[0m ██ \u001b[32m74\u001b[0m \u001b[33m55\u001b[0m 00 \u001b[32m87\u001b[0m \u001b[33m49\u001b[0m ██ \u001b[32m93\u001b[0m \u001b[32m99\u001b[0m \u001b[32m74\u001b[0m \u001b[32m74\u001b[0m ██ \u001b[31m21\u001b[0m \u001b[31m21\u001b[0m \u001b[33m57\u001b[0m\n",
      "\u001b[32m76\u001b[0m \u001b[31m04\u001b[0m \u001b[31m04\u001b[0m \u001b[33m60\u001b[0m \u001b[31m04\u001b[0m \u001b[31m04\u001b[0m \u001b[31m04\u001b[0m ██ \u001b[32m98\u001b[0m \u001b[32m97\u001b[0m \u001b[32m84\u001b[0m \u001b[32m84\u001b[0m \u001b[32m98\u001b[0m ██ \u001b[32m99\u001b[0m \u001b[32m87\u001b[0m \u001b[32m87\u001b[0m ██ \u001b[32m99\u001b[0m \u001b[32m99\u001b[0m \u001b[32m99\u001b[0m\n",
      "\u001b[32m87\u001b[0m \u001b[33m49\u001b[0m \u001b[33m49\u001b[0m \u001b[33m58\u001b[0m \u001b[33m49\u001b[0m ██ \u001b[32m99\u001b[0m \u001b[32m87\u001b[0m \u001b[32m98\u001b[0m \u001b[32m99\u001b[0m ██ \u001b[32m90\u001b[0m \u001b[32m99\u001b[0m \u001b[32m99\u001b[0m ██ \u001b[33m49\u001b[0m \u001b[33m49\u001b[0m \u001b[33m49\u001b[0m \u001b[33m49\u001b[0m \u001b[33m49\u001b[0m \u001b[32m73\u001b[0m\n",
      "\u001b[33m49\u001b[0m \u001b[31m19\u001b[0m \u001b[31m19\u001b[0m \u001b[33m66\u001b[0m ██ \u001b[31m25\u001b[0m \u001b[31m22\u001b[0m \u001b[32m83\u001b[0m \u001b[33m65\u001b[0m \u001b[31m22\u001b[0m ██ ██ \u001b[33m49\u001b[0m \u001b[32m93\u001b[0m \u001b[33m49\u001b[0m \u001b[33m49\u001b[0m \u001b[33m49\u001b[0m \u001b[33m49\u001b[0m \u001b[33m49\u001b[0m ██ ██\n",
      "██ ██ ██ ██ 00 \u001b[31m25\u001b[0m 00 \u001b[32m97\u001b[0m \u001b[33m55\u001b[0m ██ \u001b[33m49\u001b[0m \u001b[31m04\u001b[0m \u001b[33m49\u001b[0m \u001b[32m87\u001b[0m 00 ██ ██ \u001b[33m54\u001b[0m \u001b[33m54\u001b[0m \u001b[32m77\u001b[0m \u001b[33m54\u001b[0m\n",
      "\u001b[32m99\u001b[0m \u001b[32m76\u001b[0m \u001b[32m98\u001b[0m ██ \u001b[33m57\u001b[0m \u001b[33m35\u001b[0m \u001b[33m57\u001b[0m ██ ██ \u001b[33m43\u001b[0m \u001b[33m49\u001b[0m \u001b[33m45\u001b[0m \u001b[32m71\u001b[0m ██ \u001b[31m20\u001b[0m \u001b[31m20\u001b[0m \u001b[31m20\u001b[0m \u001b[31m20\u001b[0m \u001b[31m20\u001b[0m \u001b[31m20\u001b[0m \u001b[31m20\u001b[0m\n",
      "\u001b[32m97\u001b[0m \u001b[31m04\u001b[0m \u001b[32m93\u001b[0m \u001b[32m69\u001b[0m 00 ██ \u001b[31m04\u001b[0m \u001b[31m04\u001b[0m \u001b[32m76\u001b[0m \u001b[31m04\u001b[0m \u001b[33m52\u001b[0m \u001b[31m09\u001b[0m \u001b[33m52\u001b[0m \u001b[32m91\u001b[0m \u001b[31m04\u001b[0m \u001b[31m04\u001b[0m \u001b[33m52\u001b[0m \u001b[31m04\u001b[0m \u001b[31m04\u001b[0m \u001b[33m52\u001b[0m \u001b[31m04\u001b[0m\n",
      "\u001b[32m97\u001b[0m \u001b[32m77\u001b[0m \u001b[32m93\u001b[0m \u001b[32m69\u001b[0m \u001b[32m75\u001b[0m ██ \u001b[32m99\u001b[0m \u001b[32m99\u001b[0m \u001b[32m93\u001b[0m \u001b[32m99\u001b[0m \u001b[32m93\u001b[0m ██ \u001b[33m52\u001b[0m \u001b[32m91\u001b[0m \u001b[31m04\u001b[0m \u001b[31m04\u001b[0m \u001b[33m52\u001b[0m ██ \u001b[31m04\u001b[0m \u001b[33m52\u001b[0m \u001b[31m04\u001b[0m\n",
      "\u001b[32m97\u001b[0m \u001b[31m04\u001b[0m \u001b[32m93\u001b[0m \u001b[32m69\u001b[0m 00 ██ \u001b[32m99\u001b[0m \u001b[32m99\u001b[0m \u001b[32m99\u001b[0m \u001b[32m99\u001b[0m \u001b[32m99\u001b[0m ██ \u001b[32m95\u001b[0m \u001b[32m99\u001b[0m \u001b[32m99\u001b[0m \u001b[32m99\u001b[0m \u001b[32m95\u001b[0m ██ \u001b[32m97\u001b[0m \u001b[32m83\u001b[0m \u001b[32m97\u001b[0m\n",
      "\u001b[32m97\u001b[0m \u001b[31m04\u001b[0m \u001b[32m93\u001b[0m \u001b[32m69\u001b[0m 00 ██ 00 00 \u001b[32m74\u001b[0m 00 \u001b[33m49\u001b[0m ██ \u001b[32m93\u001b[0m \u001b[32m90\u001b[0m \u001b[32m87\u001b[0m \u001b[32m87\u001b[0m ██ ██ \u001b[32m88\u001b[0m \u001b[33m65\u001b[0m \u001b[32m88\u001b[0m\n",
      "ngram guess: PRATTLEBEDFRAME\n",
      "ngram guess: NARES\n",
      "ngram guess: STU\n",
      "ngram guess: EXISTENT\n",
      "ngram guess: ASXYSTOS\n",
      "ngram guess: DECAYER\n",
      "ngram guess: MERLE\n",
      "ngram guess: THELLROOT\n",
      "ngram guess: CERCIS\n",
      "ngram guess: BEL\n",
      "Fill percentage:   92%\n",
      "Fill accuracy:     42%\n",
      "\n"
     ]
    },
    {
     "data": {
      "text/plain": [
       "[{'solver': solvers.CellConfidenceSolver,\n",
       "  'num_puzzles': 10,\n",
       "  'average_fill_percentage': 0.9345985550659774,\n",
       "  'average_fill_accuracy': 0.6969677315887144,\n",
       "  'average_score': 0.6515641516347789},\n",
       " {'solver': solvers.CellConfidenceSolver,\n",
       "  'num_puzzles': 10,\n",
       "  'average_fill_percentage': 0.9419404886823356,\n",
       "  'average_fill_accuracy': 0.7196576875997792,\n",
       "  'average_score': 0.6779443238327725},\n",
       " {'solver': solvers.CellConfidenceSolver,\n",
       "  'num_puzzles': 10,\n",
       "  'average_fill_percentage': 0.9296405236965753,\n",
       "  'average_fill_accuracy': 0.614293201090355,\n",
       "  'average_score': 0.5709302167509743},\n",
       " {'solver': solvers.CellConfidenceSolver,\n",
       "  'num_puzzles': 10,\n",
       "  'average_fill_percentage': 0.9159564987089457,\n",
       "  'average_fill_accuracy': 0.644040064105166,\n",
       "  'average_score': 0.5902605723626453},\n",
       " {'solver': solvers.CellConfidenceSolver,\n",
       "  'num_puzzles': 10,\n",
       "  'average_fill_percentage': 0.9417549185115078,\n",
       "  'average_fill_accuracy': 0.5339774470583609,\n",
       "  'average_score': 0.5016584724732556},\n",
       " {'solver': solvers.CellConfidenceSolver,\n",
       "  'num_puzzles': 10,\n",
       "  'average_fill_percentage': 0.9470769677461849,\n",
       "  'average_fill_accuracy': 0.5188424471073935,\n",
       "  'average_score': 0.4890090635637675},\n",
       " {'solver': solvers.CellConfidenceSolver,\n",
       "  'num_puzzles': 10,\n",
       "  'average_fill_percentage': 0.9351932400579486,\n",
       "  'average_fill_accuracy': 0.5612187624375892,\n",
       "  'average_score': 0.5255264486498974}]"
      ]
     },
     "execution_count": 3,
     "metadata": {},
     "output_type": "execute_result"
    }
   ],
   "source": [
    "NUM_SAMPLES = 10\n",
    "\n",
    "results = [\n",
    "    test_solver(CellConfidenceSolver, NUM_SAMPLES, lambda p: p.puzzle_dict[\"dow\"] == dow)\n",
    "    for dow in DOWS\n",
    "]\n",
    "results"
   ]
  },
  {
   "cell_type": "code",
   "execution_count": 4,
   "metadata": {},
   "outputs": [
    {
     "data": {
      "text/plain": [
       "<AxesSubplot:>"
      ]
     },
     "execution_count": 4,
     "metadata": {},
     "output_type": "execute_result"
    },
    {
     "data": {
      "image/png": "[encoded data removed]",
      "text/plain": [
       "<Figure size 432x288 with 1 Axes>"
      ]
     },
     "metadata": {
      "needs_background": "light"
     },
     "output_type": "display_data"
    }
   ],
   "source": [
    "import seaborn as sns\n",
    "\n",
    "fill_pers = [res[\"average_fill_percentage\"] for res in results]\n",
    "fill_accs = [res[\"average_fill_accuracy\"] for res in results]\n",
    "scores = [res[\"average_score\"] for res in results]\n",
    "\n",
    "sns.barplot(x=DOWS, y=fill_pers)"
   ]
  },
  {
   "cell_type": "code",
   "execution_count": 5,
   "metadata": {},
   "outputs": [
    {
     "data": {
      "text/plain": [
       "<AxesSubplot:>"
      ]
     },
     "execution_count": 5,
     "metadata": {},
     "output_type": "execute_result"
    },
    {
     "data": {
      "image/png": "[encoded data removed]",
      "text/plain": [
       "<Figure size 432x288 with 1 Axes>"
      ]
     },
     "metadata": {
      "needs_background": "light"
     },
     "output_type": "display_data"
    }
   ],
   "source": [
    "sns.barplot(x=DOWS, y=fill_accs)"
   ]
  },
  {
   "cell_type": "code",
   "execution_count": 11,
   "metadata": {},
   "outputs": [
    {
     "data": {
      "text/plain": [
       "<AxesSubplot:>"
      ]
     },
     "execution_count": 11,
     "metadata": {},
     "output_type": "execute_result"
    },
    {
     "data": {
      "image/png": "[encoded data removed]",
      "text/plain": [
       "<Figure size 864x576 with 1 Axes>"
      ]
     },
     "metadata": {},
     "output_type": "display_data"
    }
   ],
   "source": [
    "sns.set_theme(rc = {'figure.figsize':(12, 8)})\n",
    "sns.barplot(x=DOWS, y=scores)"
   ]
  },
  {
   "cell_type": "code",
   "execution_count": null,
   "metadata": {},
   "outputs": [],
   "source": []
  }
 ],
 "metadata": {
  "interpreter": {
   "hash": "850a75be0461f61aee5e14ca6b0be4cca738559af450612f8862dcf144119b1b"
  },
  "kernelspec": {
   "display_name": "Python 3.9.6 64-bit ('env': venv)",
   "language": "python",
   "name": "python3"
  },
  "language_info": {
   "codemirror_mode": {
    "name": "ipython",
    "version": 3
   },
   "file_extension": ".py",
   "mimetype": "text/x-python",
   "name": "python",
   "nbconvert_exporter": "python",
   "pygments_lexer": "ipython3",
   "version": "3.9.6"
  },
  "orig_nbformat": 4
 },
 "nbformat": 4,
 "nbformat_minor": 2
}
