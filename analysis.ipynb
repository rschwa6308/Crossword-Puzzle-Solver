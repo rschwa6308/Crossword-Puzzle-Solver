{
 "cells": [
  {
   "cell_type": "code",
   "execution_count": 20,
   "metadata": {},
   "outputs": [],
   "source": [
    "import os\n",
    "import random\n",
    "import json\n",
    "from typing import Type\n",
    "\n",
    "from puzzle import Puzzle\n",
    "from solvers import Solver, BasicSolverThreshold\n",
    "from testing_util import test_solver"
   ]
  },
  {
   "cell_type": "code",
   "execution_count": 21,
   "metadata": {},
   "outputs": [],
   "source": [
    "DOWS = [\"Monday\", \"Tuesday\", \"Wednesday\", \"Thursday\", \"Friday\", \"Saturday\", \"Sunday\"]\n",
    "    "
   ]
  },
  {
   "cell_type": "code",
   "execution_count": 22,
   "metadata": {},
   "outputs": [
    {
     "name": "stdout",
     "output_type": "stream",
     "text": [
      "Solver: BasicSolverThreshold\n",
      "Puzzle: Sunday, 6/23/2002\n",
      "\n",
      "Writing     LEVENE      to slot 28D\tconf: 20%\t(CORRECT ✓)\n",
      "\n",
      "Ａ\u001b[31mＵ\u001b[0mＳ\u001b[31mＢ\u001b[0m＿＿██\u001b[31mＭ\u001b[0m\u001b[31mＥ\u001b[0m\u001b[31mＤ\u001b[0m\u001b[31mＡ\u001b[0m\u001b[31mＬ\u001b[0m██\u001b[31mＥ\u001b[0m\u001b[31mＸ\u001b[0m\u001b[31mＩ\u001b[0m\u001b[31mＴ\u001b[0m██\u001b[31mＨ\u001b[0mＡ\u001b[31mＤ\u001b[0m\n",
      "Ｒ\u001b[31mＧ\u001b[0mＩ\u001b[31mＥ\u001b[0m＿＿██\u001b[31mＯ\u001b[0m\u001b[31mＬ\u001b[0m\u001b[31mＤ\u001b[0m\u001b[31mＥ\u001b[0m\u001b[31mＮ\u001b[0m██＿＿＿＿Ｏ＿Ｒ＿\n",
      "ＴＨＲ\u001b[31mＮ\u001b[0m＿＿＿＿＿＿＿＿██＿＿＿＿Ｎ＿Ｕ＿\n",
      "████████\u001b[31mＢ\u001b[0m\u001b[31mＩ\u001b[0m\u001b[31mＬ\u001b[0m\u001b[31mＫ\u001b[0m██ＲＩＥＬ██ＲＥＰＥＡＬＳ\n",
      "ＩＭ＿＿██＿＿＿Ｈ██ＥＲＥＳ██＿＿Ｒ＿Ｅ██\n",
      "ＬＩＰＯ██████ＥＡＲ████Ｖ＿＿＿＿Ｓ██████\n",
      "ＯＲ＿＿＿Ｅ\u001b[31mＲ\u001b[0m＿ＩＣ＿██ＥＶＥＲＳ██ＳＵＶ\n",
      "ＮＥ＿＿＿Ｌ\u001b[31mＩ\u001b[0m＿██ＡＧＯＮＩＥＳ██ＦＡＳＯ\n",
      "ＡＤ＿＿＿Ｉ\u001b[31mＡ\u001b[0m＿＿██ＧＲＥＥＮＥ██ＡＧＥＤ\n",
      "██████ＮＥＥ████\u001b[31mＢ\u001b[0m\u001b[31mＡ\u001b[0mＷＬ██＿＿＿Ｅ＿＿Ｒ＿\n",
      "\u001b[31mＡ\u001b[0m\u001b[31mＤ\u001b[0m\u001b[31mＲ\u001b[0m\u001b[31mＥ\u001b[0m\u001b[31mＭ\u001b[0m██＿＿＿＿＿Ｏ\u001b[31mＥ\u001b[0m＿＿██ＭＩＳＳＡ\n",
      "＿＿＿＿＿＿＿＿██＿＿Ｎ\u001b[31mＮ\u001b[0m████ＳＯＬ██████\n",
      "\u001b[31mＥ\u001b[0m\u001b[31mＩ\u001b[0m\u001b[31mＲ\u001b[0m\u001b[31mＥ\u001b[0m██ＥＲＲＡＮＴ██Ｓ＿ＦＥＴ＿＿＿＿\n",
      "ＫＲＩＳ██＿＿＿＿＿＿\u001b[31mＲ\u001b[0m██ＰＥＮＥＬＯＰＥ\n",
      "ＳＡＸ██\u001b[31mＲ\u001b[0m\u001b[31mＥ\u001b[0m\u001b[31mＬ\u001b[0mＡ\u001b[31mＸ\u001b[0m██＿\u001b[31mＥ\u001b[0m＿＿ＷＤＲ＿＿＿＿\n",
      "██████\u001b[31mＲ\u001b[0m\u001b[31mＥ\u001b[0m\u001b[31mＧ\u001b[0m\u001b[31mＩ\u001b[0m\u001b[31mＯ\u001b[0m\u001b[31mＮ\u001b[0m████\u001b[31mＴ\u001b[0m＿＿██████\u001b[31mＩ\u001b[0m\u001b[31mＳ\u001b[0m\u001b[31mＩ\u001b[0m\u001b[31mＮ\u001b[0m\n",
      "██ＴＲＩＰＥ██ＳＲＡＳ██\u001b[31mＨ\u001b[0m\u001b[31mＥ\u001b[0m\u001b[31mＲ\u001b[0m\u001b[31mＥ\u001b[0m██ＥＬＳＥ\n",
      "\u001b[31mＥ\u001b[0m\u001b[31mＭ\u001b[0m\u001b[31mＩ\u001b[0m\u001b[31mＮ\u001b[0mＥ\u001b[31mＮ\u001b[0m\u001b[31mＴ\u001b[0m██ＥＮＣＬ██\u001b[31mＭ\u001b[0m\u001b[31mＥ\u001b[0m\u001b[31mＥ\u001b[0mＴ████████\n",
      "\u001b[31mＶ\u001b[0m\u001b[31mＯ\u001b[0m\u001b[31mＬ\u001b[0m\u001b[31mＡ\u001b[0m\u001b[31mＴ\u001b[0m\u001b[31mＩ\u001b[0m\u001b[31mＬ\u001b[0m\u001b[31mＥ\u001b[0m██＿＿＿＿＿＿＿ＯＵ＿＿Ｅ\n",
      "ＧＬＩＳＳＡＤＥ██\u001b[31mＳ\u001b[0m\u001b[31mＰ\u001b[0m\u001b[31mＯ\u001b[0m\u001b[31mＤ\u001b[0m\u001b[31mＥ\u001b[0m██＿ＴＴ＿＿Ｎ\n",
      "ＳＹＤ██＿＿＿＿██\u001b[31mＡ\u001b[0mＯ\u001b[31mＲ\u001b[0mＴ\u001b[31mＡ\u001b[0m██ＲＥＡ\u001b[31mＰ\u001b[0mＥＤ\n",
      "Fill percentage:   70%\n",
      "Fill accuracy:     66%\n"
     ]
    },
    {
     "data": {
      "text/plain": [
       "[{'solver': solvers.BasicSolverThreshold,\n",
       "  'num_puzzles': 10,\n",
       "  'average_fill_percentage': 0.8099091787277335,\n",
       "  'average_fill_accuracy': 0.7606308330079369},\n",
       " {'solver': solvers.BasicSolverThreshold,\n",
       "  'num_puzzles': 10,\n",
       "  'average_fill_percentage': 0.7679429905324644,\n",
       "  'average_fill_accuracy': 0.7928876325592501},\n",
       " {'solver': solvers.BasicSolverThreshold,\n",
       "  'num_puzzles': 10,\n",
       "  'average_fill_percentage': 0.7908799071231047,\n",
       "  'average_fill_accuracy': 0.7569211732029877},\n",
       " {'solver': solvers.BasicSolverThreshold,\n",
       "  'num_puzzles': 10,\n",
       "  'average_fill_percentage': 0.7238156286746655,\n",
       "  'average_fill_accuracy': 0.6393958698285417},\n",
       " {'solver': solvers.BasicSolverThreshold,\n",
       "  'num_puzzles': 10,\n",
       "  'average_fill_percentage': 0.7312666132072703,\n",
       "  'average_fill_accuracy': 0.7036551025336953},\n",
       " {'solver': solvers.BasicSolverThreshold,\n",
       "  'num_puzzles': 10,\n",
       "  'average_fill_percentage': 0.6959065401266538,\n",
       "  'average_fill_accuracy': 0.5673522532989732},\n",
       " {'solver': solvers.BasicSolverThreshold,\n",
       "  'num_puzzles': 10,\n",
       "  'average_fill_percentage': 0.7186077160527088,\n",
       "  'average_fill_accuracy': 0.6921994064313254}]"
      ]
     },
     "execution_count": 22,
     "metadata": {},
     "output_type": "execute_result"
    }
   ],
   "source": [
    "NUM_SAMPLES = 10\n",
    "\n",
    "results = [\n",
    "    test_solver(BasicSolverThreshold, NUM_SAMPLES, lambda p: p.puzzle_dict[\"dow\"] == dow)\n",
    "    for dow in DOWS\n",
    "]\n",
    "results"
   ]
  },
  {
   "cell_type": "code",
   "execution_count": 23,
   "metadata": {},
   "outputs": [
    {
     "data": {
      "text/plain": [
       "<AxesSubplot:>"
      ]
     },
     "execution_count": 23,
     "metadata": {},
     "output_type": "execute_result"
    },
    {
     "data": {
      "image/png": "[encoded data removed]",
      "text/plain": [
       "<Figure size 432x288 with 1 Axes>"
      ]
     },
     "metadata": {
      "needs_background": "light"
     },
     "output_type": "display_data"
    }
   ],
   "source": [
    "sns.barplot(x=DOWS, y=fill_accs)"
   ]
  },
  {
   "cell_type": "code",
   "execution_count": 24,
   "metadata": {},
   "outputs": [
    {
     "data": {
      "text/plain": [
       "<AxesSubplot:>"
      ]
     },
     "execution_count": 24,
     "metadata": {},
     "output_type": "execute_result"
    },
    {
     "data": {
      "image/png": "[encoded data removed]",
      "text/plain": [
       "<Figure size 432x288 with 1 Axes>"
      ]
     },
     "metadata": {
      "needs_background": "light"
     },
     "output_type": "display_data"
    }
   ],
   "source": [
    "import seaborn as sns\n",
    "\n",
    "fill_pers = [res[\"average_fill_percentage\"] for res in results]\n",
    "fill_accs = [res[\"average_fill_accuracy\"] for res in results]\n",
    "\n",
    "sns.barplot(x=DOWS, y=fill_pers)"
   ]
  },
  {
   "cell_type": "code",
   "execution_count": 25,
   "metadata": {},
   "outputs": [
    {
     "data": {
      "text/plain": [
       "<AxesSubplot:>"
      ]
     },
     "execution_count": 25,
     "metadata": {},
     "output_type": "execute_result"
    },
    {
     "data": {
      "image/png": "[encoded data removed]",
      "text/plain": [
       "<Figure size 432x288 with 1 Axes>"
      ]
     },
     "metadata": {
      "needs_background": "light"
     },
     "output_type": "display_data"
    }
   ],
   "source": [
    "sns.barplot(x=DOWS, y=fill_accs)"
   ]
  },
  {
   "cell_type": "code",
   "execution_count": null,
   "metadata": {},
   "outputs": [],
   "source": []
  }
 ],
 "metadata": {
  "interpreter": {
   "hash": "850a75be0461f61aee5e14ca6b0be4cca738559af450612f8862dcf144119b1b"
  },
  "kernelspec": {
   "display_name": "Python 3.9.6 64-bit ('env': venv)",
   "language": "python",
   "name": "python3"
  },
  "language_info": {
   "codemirror_mode": {
    "name": "ipython",
    "version": 3
   },
   "file_extension": ".py",
   "mimetype": "text/x-python",
   "name": "python",
   "nbconvert_exporter": "python",
   "pygments_lexer": "ipython3",
   "version": "3.9.6"
  },
  "orig_nbformat": 4
 },
 "nbformat": 4,
 "nbformat_minor": 2
}
