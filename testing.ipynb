{
 "cells": [
  {
   "cell_type": "code",
   "execution_count": 1,
   "metadata": {},
   "outputs": [],
   "source": [
    "from solvers import BasicSolver, BasicSolverThreshold, CellConfidenceSolver\n",
    "from testing_util import test_solver\n",
    "from pprint import pprint"
   ]
  },
  {
   "cell_type": "code",
   "execution_count": 3,
   "metadata": {},
   "outputs": [
    {
     "name": "stdout",
     "output_type": "stream",
     "text": [
      "\n",
      "Writing      DECOR      to slot 77D\tconf: 30%\t(CORRECT ✓)\n",
      "\n",
      "ＡＴＴＡＲ██Ｃ\u001b[31mＰ\u001b[0mＡ＿Ａ\u001b[31mＤ\u001b[0m██ＡＬＡＣＡＲＴＥ\n",
      "ＭＥＲＬＥ██Ｓ\u001b[31mＲ\u001b[0mＬ＿Ｍ\u001b[31mＯ\u001b[0m██ＶＡ＿＿ＲＩ＿＿\n",
      "Ｂ＿ＯＡＤＷＡ\u001b[31mＯ\u001b[0mＦ＿Ｏ\u001b[31mＧ\u001b[0m██ＯＣＡＲＩＮＡＳ\n",
      "Ｏ＿ＩＮＤＡ██\u001b[31mＰ\u001b[0mＡ＿Ｅ████ＮＥ＿＿████████\n",
      "Ｙ＿ＳＳＥＳ██████ＡＢＩＥ██████ＥＡＭＥＳ\n",
      "████████ＲＡＣ＿Ｅ＿Ａ\u001b[31mＶ\u001b[0m\u001b[31mＶ\u001b[0m\u001b[31mＩ\u001b[0m＿\u001b[31mＥ\u001b[0m＿ＧＡ＿Ｅ\n",
      "ＡＲＰＳ██ＴＨＥＲＥ██\u001b[31mＥ\u001b[0m\u001b[31mＯ\u001b[0m\u001b[31mＮ\u001b[0m＿\u001b[31mＶ\u001b[0m██ＡＲＡＭ\n",
      "ＲＩＯＴＳ██ＩＳＡ██Ｍ\u001b[31mＳ\u001b[0m\u001b[31mＫ\u001b[0m\u001b[31mＫ\u001b[0m＿\u001b[31mＥ\u001b[0m██ＶＩＩＩ\n",
      "Ｕ＿＿＿ＬＳ██ＥＴＴＥ██ＥＳＰ██ＰＥＡＬＳ\n",
      "Ｂ＿＿＿ＩＡ＿＿Ｏ＿ＴＨＳ██\u001b[31mＶ\u001b[0m\u001b[31mＩ\u001b[0m\u001b[31mＡ\u001b[0m████████\n",
      "Ａ＿＿＿ＮＮ＿████ＢＡＡ████ＥＬＬＥＳＳＥ\n",
      "████████ＧＡ＿██＿＿ＸＩＤ＿＿＿＿＿ＥＥＤ\n",
      "Ｓ＿＿ＭＳ██＿＿＿██ＡＬＥＸ██ＳＰＡＲＴＡ\n",
      "Ｌ＿＿Ｅ██＿＿＿＿＿Ｓ██Ｃ＿\u001b[31mＥ\u001b[0m██＿＿ＲＩＭ\n",
      "ＡＲＥＡ██\u001b[31mＮ\u001b[0m\u001b[31mＯ\u001b[0m\u001b[31mＯ\u001b[0m\u001b[31mＮ\u001b[0m\u001b[31mＥ\u001b[0m██＿Ｏ＿\u001b[31mＮ\u001b[0m＿██＿ＡＮＳ\n",
      "Ｋ＿＿ＤＯ＿＿＿＿＿＿＿Ｒ＿\u001b[31mＤ\u001b[0m＿＿████████\n",
      "ＥＮＴＥＲ██████ＣＬＯＰ██████＿＿Ｒ＿Ａ\u001b[31mＳ\u001b[0m\n",
      "████████Ｉ＿Ｌ\u001b[31mＳ\u001b[0m████ＲＩＡＬ██＿＿Ｅ＿Ｄ\u001b[31mＩ\u001b[0m\n",
      "ＯＬＤ\u001b[31mＧ\u001b[0mＯ＿Ｅ\u001b[31mＥ\u001b[0m██\u001b[31mＭ\u001b[0m＿＿Ｒ＿Ｃ＿＿Ｉ＿Ｏ\u001b[31mＴ\u001b[0m\n",
      "ＶＯＣ\u001b[31mＥ\u001b[0mＬ＿Ｓ\u001b[31mＣ\u001b[0m██\u001b[31mＯ\u001b[0m＿＿Ｉ＿Ｏ██\u001b[31mＩ\u001b[0mＮＵＲＥ\n",
      "ＡＮＩ\u001b[31mＮ\u001b[0mＥ＿Ｔ\u001b[31mＯ\u001b[0m██\u001b[31mＴ\u001b[0m＿＿Ｅ＿Ｓ██ＤＥＲＮＳ\n",
      "Fill percentage:   74%\n",
      "Fill accuracy:     84%\n"
     ]
    },
    {
     "data": {
      "text/plain": [
       "{'solver': solvers.BasicSolverThreshold,\n",
       " 'num_puzzles': 1,\n",
       " 'average_fill_percentage': 0.7424657534246575,\n",
       " 'average_fill_accuracy': 0.8376383763837638}"
      ]
     },
     "execution_count": 3,
     "metadata": {},
     "output_type": "execute_result"
    }
   ],
   "source": [
    "test_solver(BasicSolverThreshold, 1)"
   ]
  },
  {
   "cell_type": "code",
   "execution_count": 4,
   "metadata": {},
   "outputs": [
    {
     "name": "stdout",
     "output_type": "stream",
     "text": [
      "Solver:   CellConfidenceSolver\n",
      "Puzzle:   Saturday, 12/17/2011\n",
      "\n",
      "Writing      RAIN       to slot 51D\t(CORRECT ✓)\n",
      "            94% 😀     \n",
      "\n",
      "ＳＡ\u001b[31mＡ\u001b[0m\u001b[31mＥ\u001b[0mＡ\u001b[31mＮ\u001b[0m\u001b[31mＥ\u001b[0m\u001b[31mＯ\u001b[0m██\u001b[31mＩ\u001b[0m\u001b[31mＢ\u001b[0m\u001b[31mＥ\u001b[0m\u001b[31mＢ\u001b[0m\u001b[31mＭ\u001b[0mＳ\n",
      "＿Ｐ＿\u001b[31mＮ\u001b[0mＲ＿＿\u001b[31mＰ\u001b[0m██ＡＲ\u001b[31mＣ\u001b[0m\u001b[31mＡ\u001b[0m\u001b[31mＮ\u001b[0mＴ\n",
      "＿Ｅ＿\u001b[31mＣ\u001b[0mＲ＿＿\u001b[31mＴ\u001b[0m██\u001b[31mＳ\u001b[0m\u001b[31mＬ\u001b[0m\u001b[31mＡ\u001b[0m\u001b[31mＦ\u001b[0m\u001b[31mＫ\u001b[0mＡ\n",
      "\u001b[31mＢ\u001b[0m\u001b[31mＡ\u001b[0m\u001b[31mＧ\u001b[0m██ＡＲＩ██\u001b[31mＲ\u001b[0m＿＿＿\u001b[31mＩ\u001b[0m＿Ｄ\n",
      "████ＳＱＵＡＤ\u001b[31mＳ\u001b[0mＡＲ██Ｓ\u001b[31mＴ\u001b[0m\u001b[31mＡ\u001b[0mＴ\n",
      "ＥＳ\u001b[31mＲ\u001b[0m\u001b[31mＡ\u001b[0m██ＥＮ\u001b[31mＡ\u001b[0m\u001b[31mＡ\u001b[0m\u001b[31mＳ\u001b[0m\u001b[31mＳ\u001b[0m\u001b[31mＥ\u001b[0m██████\n",
      "＿Ｌ＿＿Ｓ＿＿\u001b[31mＰ\u001b[0m\u001b[31mＳ\u001b[0m██\u001b[31mＮ\u001b[0m\u001b[31mＡ\u001b[0m\u001b[31mＢ\u001b[0m\u001b[31mＴ\u001b[0m\u001b[31mＡ\u001b[0m\n",
      "\u001b[31mＳ\u001b[0mＡ\u001b[31mＴ\u001b[0m\u001b[31mＵ\u001b[0mＨ\u001b[31mＳ\u001b[0m██████\u001b[31mＲ\u001b[0m\u001b[31mＡ\u001b[0m＿\u001b[31mＬ\u001b[0m\u001b[31mＯ\u001b[0m＿\n",
      "＿Ｐ＿＿Ｅ██\u001b[31mＨ\u001b[0m\u001b[31mＯ\u001b[0m\u001b[31mＰ\u001b[0mＥ\u001b[31mＰ\u001b[0m＿\u001b[31mＩ\u001b[0m\u001b[31mＡ\u001b[0m＿\n",
      "██████＿ＬＯ\u001b[31mＥ\u001b[0m\u001b[31mＬ\u001b[0m\u001b[31mＬ\u001b[0m\u001b[31mＨ\u001b[0m██ＩＯＮＥ\n",
      "ＳＣＡ\u001b[31mＭ\u001b[0m██Ｍ\u001b[31mＲ\u001b[0m\u001b[31mＡ\u001b[0m\u001b[31mＩ\u001b[0m\u001b[31mＥ\u001b[0mＥ＿\u001b[31mＤ\u001b[0m████\n",
      "\u001b[31mＡ\u001b[0mＡＰ＿ＲＥＤ██\u001b[31mＡ\u001b[0m\u001b[31mＡ\u001b[0mＸ██\u001b[31mＳ\u001b[0m\u001b[31mＰ\u001b[0mＩ\n",
      "\u001b[31mＬ\u001b[0mＰＰＥＡＬ██＿\u001b[31mＢ\u001b[0mＲＴ＿\u001b[31mＰ\u001b[0m\u001b[31mＬ\u001b[0m\u001b[31mＮ\u001b[0m\n",
      "\u001b[31mＯ\u001b[0mＲＡ＿ＩＥ██\u001b[31mＳ\u001b[0m\u001b[31mＬ\u001b[0m\u001b[31mＳ\u001b[0mＲＩ\u001b[31mＯ\u001b[0m\u001b[31mＥ\u001b[0m\u001b[31mＩ\u001b[0m\n",
      "\u001b[31mＮ\u001b[0mＩＬ＿ＮＴ██＿Ｅ\u001b[31mＥ\u001b[0mＡ＿\u001b[31mＴ\u001b[0m\u001b[31mＡ\u001b[0mＴ\n",
      "\n",
      "\u001b[33m39\u001b[0m \u001b[32m75\u001b[0m \u001b[33m39\u001b[0m \u001b[33m49\u001b[0m \u001b[32m99\u001b[0m \u001b[33m39\u001b[0m \u001b[33m39\u001b[0m \u001b[31m18\u001b[0m ██ \u001b[33m50\u001b[0m \u001b[33m50\u001b[0m \u001b[33m50\u001b[0m \u001b[32m73\u001b[0m \u001b[33m50\u001b[0m \u001b[32m87\u001b[0m\n",
      "00 \u001b[32m75\u001b[0m 00 \u001b[33m49\u001b[0m \u001b[32m99\u001b[0m 00 00 \u001b[31m18\u001b[0m ██ \u001b[32m80\u001b[0m \u001b[32m80\u001b[0m \u001b[32m80\u001b[0m \u001b[32m80\u001b[0m \u001b[32m80\u001b[0m \u001b[32m87\u001b[0m\n",
      "00 \u001b[32m75\u001b[0m 00 \u001b[33m49\u001b[0m \u001b[32m99\u001b[0m 00 00 \u001b[31m18\u001b[0m ██ \u001b[33m50\u001b[0m \u001b[33m50\u001b[0m \u001b[33m50\u001b[0m \u001b[32m73\u001b[0m \u001b[33m50\u001b[0m \u001b[32m87\u001b[0m\n",
      "\u001b[32m87\u001b[0m \u001b[32m87\u001b[0m \u001b[32m87\u001b[0m ██ \u001b[31m28\u001b[0m \u001b[31m28\u001b[0m \u001b[31m28\u001b[0m ██ \u001b[31m21\u001b[0m 00 00 00 \u001b[32m73\u001b[0m 00 \u001b[32m87\u001b[0m\n",
      "██ ██ \u001b[33m50\u001b[0m \u001b[33m50\u001b[0m \u001b[33m50\u001b[0m \u001b[33m50\u001b[0m \u001b[33m50\u001b[0m \u001b[33m64\u001b[0m \u001b[33m50\u001b[0m \u001b[33m50\u001b[0m ██ \u001b[32m72\u001b[0m \u001b[32m73\u001b[0m \u001b[32m72\u001b[0m \u001b[32m87\u001b[0m\n",
      "\u001b[33m57\u001b[0m \u001b[32m92\u001b[0m \u001b[33m57\u001b[0m \u001b[33m57\u001b[0m ██ \u001b[31m18\u001b[0m \u001b[31m18\u001b[0m \u001b[33m64\u001b[0m \u001b[31m18\u001b[0m \u001b[31m18\u001b[0m \u001b[31m18\u001b[0m \u001b[31m18\u001b[0m ██ ██ ██\n",
      "00 \u001b[32m92\u001b[0m 00 00 \u001b[32m99\u001b[0m 00 00 \u001b[33m64\u001b[0m \u001b[31m21\u001b[0m ██ \u001b[32m75\u001b[0m \u001b[33m52\u001b[0m \u001b[33m50\u001b[0m \u001b[32m77\u001b[0m \u001b[33m52\u001b[0m\n",
      "\u001b[33m57\u001b[0m \u001b[32m92\u001b[0m \u001b[33m57\u001b[0m \u001b[33m57\u001b[0m \u001b[32m99\u001b[0m \u001b[33m57\u001b[0m ██ ██ ██ \u001b[32m75\u001b[0m \u001b[32m75\u001b[0m 00 \u001b[33m50\u001b[0m \u001b[32m77\u001b[0m 00\n",
      "00 \u001b[32m92\u001b[0m 00 00 \u001b[32m99\u001b[0m ██ \u001b[33m51\u001b[0m \u001b[33m36\u001b[0m \u001b[33m50\u001b[0m \u001b[32m75\u001b[0m \u001b[32m75\u001b[0m 00 \u001b[33m50\u001b[0m \u001b[32m77\u001b[0m 00\n",
      "██ ██ ██ 00 \u001b[32m99\u001b[0m \u001b[33m50\u001b[0m \u001b[33m51\u001b[0m \u001b[33m36\u001b[0m \u001b[33m50\u001b[0m \u001b[32m75\u001b[0m ██ \u001b[32m99\u001b[0m \u001b[32m99\u001b[0m \u001b[32m99\u001b[0m \u001b[32m99\u001b[0m\n",
      "\u001b[33m36\u001b[0m \u001b[33m50\u001b[0m \u001b[32m73\u001b[0m \u001b[33m36\u001b[0m ██ \u001b[33m50\u001b[0m \u001b[33m51\u001b[0m \u001b[33m36\u001b[0m \u001b[33m50\u001b[0m \u001b[32m75\u001b[0m \u001b[33m50\u001b[0m 00 \u001b[33m50\u001b[0m ██ ██\n",
      "\u001b[33m36\u001b[0m \u001b[33m50\u001b[0m \u001b[32m73\u001b[0m 00 \u001b[32m93\u001b[0m \u001b[33m50\u001b[0m \u001b[33m51\u001b[0m ██ \u001b[33m50\u001b[0m \u001b[32m75\u001b[0m \u001b[33m50\u001b[0m ██ \u001b[33m50\u001b[0m \u001b[32m87\u001b[0m \u001b[33m50\u001b[0m\n",
      "\u001b[33m36\u001b[0m \u001b[33m50\u001b[0m \u001b[32m73\u001b[0m \u001b[31m23\u001b[0m \u001b[32m93\u001b[0m \u001b[31m23\u001b[0m ██ 00 \u001b[33m50\u001b[0m \u001b[32m75\u001b[0m \u001b[33m50\u001b[0m 00 \u001b[33m50\u001b[0m \u001b[32m87\u001b[0m \u001b[33m50\u001b[0m\n",
      "\u001b[33m36\u001b[0m \u001b[33m50\u001b[0m \u001b[32m73\u001b[0m 00 \u001b[32m93\u001b[0m \u001b[33m50\u001b[0m ██ \u001b[33m50\u001b[0m \u001b[33m50\u001b[0m \u001b[32m75\u001b[0m \u001b[33m50\u001b[0m \u001b[33m50\u001b[0m \u001b[33m50\u001b[0m \u001b[32m87\u001b[0m \u001b[33m50\u001b[0m\n",
      "\u001b[33m36\u001b[0m \u001b[33m50\u001b[0m \u001b[32m73\u001b[0m 00 \u001b[32m93\u001b[0m \u001b[33m50\u001b[0m ██ 00 \u001b[33m50\u001b[0m \u001b[32m75\u001b[0m \u001b[33m50\u001b[0m 00 \u001b[33m50\u001b[0m \u001b[32m87\u001b[0m \u001b[33m50\u001b[0m\n",
      "Fill percentage:   83%\n",
      "Fill accuracy:     45%\n",
      "\n"
     ]
    },
    {
     "ename": "NameError",
     "evalue": "name 'pprint' is not defined",
     "output_type": "error",
     "traceback": [
      "\u001b[1;31m---------------------------------------------------------------------------\u001b[0m",
      "\u001b[1;31mNameError\u001b[0m                                 Traceback (most recent call last)",
      "\u001b[1;32m~\\AppData\\Local\\Temp/ipykernel_22348/2270110048.py\u001b[0m in \u001b[0;36m<module>\u001b[1;34m\u001b[0m\n\u001b[0;32m      2\u001b[0m \u001b[0mres3\u001b[0m \u001b[1;33m=\u001b[0m \u001b[0mtest_solver\u001b[0m\u001b[1;33m(\u001b[0m\u001b[0mCellConfidenceSolver\u001b[0m\u001b[1;33m,\u001b[0m \u001b[1;36m100\u001b[0m\u001b[1;33m,\u001b[0m \u001b[0mseed\u001b[0m\u001b[1;33m=\u001b[0m\u001b[1;36m69\u001b[0m\u001b[1;33m)\u001b[0m\u001b[1;33m\u001b[0m\u001b[1;33m\u001b[0m\u001b[0m\n\u001b[0;32m      3\u001b[0m \u001b[1;31m# pprint(res1)\u001b[0m\u001b[1;33m\u001b[0m\u001b[1;33m\u001b[0m\u001b[1;33m\u001b[0m\u001b[0m\n\u001b[1;32m----> 4\u001b[1;33m \u001b[0mpprint\u001b[0m\u001b[1;33m(\u001b[0m\u001b[0mres2\u001b[0m\u001b[1;33m)\u001b[0m\u001b[1;33m\u001b[0m\u001b[1;33m\u001b[0m\u001b[0m\n\u001b[0m\u001b[0;32m      5\u001b[0m \u001b[0mpprint\u001b[0m\u001b[1;33m(\u001b[0m\u001b[0mres3\u001b[0m\u001b[1;33m)\u001b[0m\u001b[1;33m\u001b[0m\u001b[1;33m\u001b[0m\u001b[0m\n",
      "\u001b[1;31mNameError\u001b[0m: name 'pprint' is not defined"
     ]
    }
   ],
   "source": [
    "res2 = test_solver(BasicSolverThreshold, 100, seed=69)\n",
    "res3 = test_solver(CellConfidenceSolver, 100, seed=69)\n",
    "# pprint(res1)\n",
    "pprint(res2)\n",
    "pprint(res3)"
   ]
  },
  {
   "cell_type": "code",
   "execution_count": null,
   "metadata": {},
   "outputs": [],
   "source": []
  }
 ],
 "metadata": {
  "interpreter": {
   "hash": "850a75be0461f61aee5e14ca6b0be4cca738559af450612f8862dcf144119b1b"
  },
  "kernelspec": {
   "display_name": "Python 3.9.6 64-bit ('env': venv)",
   "language": "python",
   "name": "python3"
  },
  "language_info": {
   "codemirror_mode": {
    "name": "ipython",
    "version": 3
   },
   "file_extension": ".py",
   "mimetype": "text/x-python",
   "name": "python",
   "nbconvert_exporter": "python",
   "pygments_lexer": "ipython3",
   "version": "3.9.6"
  },
  "orig_nbformat": 4
 },
 "nbformat": 4,
 "nbformat_minor": 2
}
