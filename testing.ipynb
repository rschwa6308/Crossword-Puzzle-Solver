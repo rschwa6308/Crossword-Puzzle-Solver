{
 "cells": [
  {
   "cell_type": "code",
   "execution_count": 1,
   "metadata": {},
   "outputs": [],
   "source": [
    "from solvers import BasicSolver, BasicSolverThreshold\n",
    "from testing_util import test_solver"
   ]
  },
  {
   "cell_type": "code",
   "execution_count": 3,
   "metadata": {},
   "outputs": [
    {
     "name": "stdout",
     "output_type": "stream",
     "text": [
      "\n",
      "Writing      DECOR      to slot 77D\tconf: 30%\t(CORRECT ✓)\n",
      "\n",
      "ＡＴＴＡＲ██Ｃ\u001b[31mＰ\u001b[0mＡ＿Ａ\u001b[31mＤ\u001b[0m██ＡＬＡＣＡＲＴＥ\n",
      "ＭＥＲＬＥ██Ｓ\u001b[31mＲ\u001b[0mＬ＿Ｍ\u001b[31mＯ\u001b[0m██ＶＡ＿＿ＲＩ＿＿\n",
      "Ｂ＿ＯＡＤＷＡ\u001b[31mＯ\u001b[0mＦ＿Ｏ\u001b[31mＧ\u001b[0m██ＯＣＡＲＩＮＡＳ\n",
      "Ｏ＿ＩＮＤＡ██\u001b[31mＰ\u001b[0mＡ＿Ｅ████ＮＥ＿＿████████\n",
      "Ｙ＿ＳＳＥＳ██████ＡＢＩＥ██████ＥＡＭＥＳ\n",
      "████████ＲＡＣ＿Ｅ＿Ａ\u001b[31mＶ\u001b[0m\u001b[31mＶ\u001b[0m\u001b[31mＩ\u001b[0m＿\u001b[31mＥ\u001b[0m＿ＧＡ＿Ｅ\n",
      "ＡＲＰＳ██ＴＨＥＲＥ██\u001b[31mＥ\u001b[0m\u001b[31mＯ\u001b[0m\u001b[31mＮ\u001b[0m＿\u001b[31mＶ\u001b[0m██ＡＲＡＭ\n",
      "ＲＩＯＴＳ██ＩＳＡ██Ｍ\u001b[31mＳ\u001b[0m\u001b[31mＫ\u001b[0m\u001b[31mＫ\u001b[0m＿\u001b[31mＥ\u001b[0m██ＶＩＩＩ\n",
      "Ｕ＿＿＿ＬＳ██ＥＴＴＥ██ＥＳＰ██ＰＥＡＬＳ\n",
      "Ｂ＿＿＿ＩＡ＿＿Ｏ＿ＴＨＳ██\u001b[31mＶ\u001b[0m\u001b[31mＩ\u001b[0m\u001b[31mＡ\u001b[0m████████\n",
      "Ａ＿＿＿ＮＮ＿████ＢＡＡ████ＥＬＬＥＳＳＥ\n",
      "████████ＧＡ＿██＿＿ＸＩＤ＿＿＿＿＿ＥＥＤ\n",
      "Ｓ＿＿ＭＳ██＿＿＿██ＡＬＥＸ██ＳＰＡＲＴＡ\n",
      "Ｌ＿＿Ｅ██＿＿＿＿＿Ｓ██Ｃ＿\u001b[31mＥ\u001b[0m██＿＿ＲＩＭ\n",
      "ＡＲＥＡ██\u001b[31mＮ\u001b[0m\u001b[31mＯ\u001b[0m\u001b[31mＯ\u001b[0m\u001b[31mＮ\u001b[0m\u001b[31mＥ\u001b[0m██＿Ｏ＿\u001b[31mＮ\u001b[0m＿██＿ＡＮＳ\n",
      "Ｋ＿＿ＤＯ＿＿＿＿＿＿＿Ｒ＿\u001b[31mＤ\u001b[0m＿＿████████\n",
      "ＥＮＴＥＲ██████ＣＬＯＰ██████＿＿Ｒ＿Ａ\u001b[31mＳ\u001b[0m\n",
      "████████Ｉ＿Ｌ\u001b[31mＳ\u001b[0m████ＲＩＡＬ██＿＿Ｅ＿Ｄ\u001b[31mＩ\u001b[0m\n",
      "ＯＬＤ\u001b[31mＧ\u001b[0mＯ＿Ｅ\u001b[31mＥ\u001b[0m██\u001b[31mＭ\u001b[0m＿＿Ｒ＿Ｃ＿＿Ｉ＿Ｏ\u001b[31mＴ\u001b[0m\n",
      "ＶＯＣ\u001b[31mＥ\u001b[0mＬ＿Ｓ\u001b[31mＣ\u001b[0m██\u001b[31mＯ\u001b[0m＿＿Ｉ＿Ｏ██\u001b[31mＩ\u001b[0mＮＵＲＥ\n",
      "ＡＮＩ\u001b[31mＮ\u001b[0mＥ＿Ｔ\u001b[31mＯ\u001b[0m██\u001b[31mＴ\u001b[0m＿＿Ｅ＿Ｓ██ＤＥＲＮＳ\n",
      "Fill percentage:   74%\n",
      "Fill accuracy:     84%\n"
     ]
    },
    {
     "data": {
      "text/plain": [
       "{'solver': solvers.BasicSolverThreshold,\n",
       " 'num_puzzles': 1,\n",
       " 'average_fill_percentage': 0.7424657534246575,\n",
       " 'average_fill_accuracy': 0.8376383763837638}"
      ]
     },
     "execution_count": 3,
     "metadata": {},
     "output_type": "execute_result"
    }
   ],
   "source": [
    "test_solver(BasicSolverThreshold, 1)"
   ]
  }
 ],
 "metadata": {
  "interpreter": {
   "hash": "850a75be0461f61aee5e14ca6b0be4cca738559af450612f8862dcf144119b1b"
  },
  "kernelspec": {
   "display_name": "Python 3.9.6 64-bit ('env': venv)",
   "language": "python",
   "name": "python3"
  },
  "language_info": {
   "codemirror_mode": {
    "name": "ipython",
    "version": 3
   },
   "file_extension": ".py",
   "mimetype": "text/x-python",
   "name": "python",
   "nbconvert_exporter": "python",
   "pygments_lexer": "ipython3",
   "version": "3.9.6"
  },
  "orig_nbformat": 4
 },
 "nbformat": 4,
 "nbformat_minor": 2
}
